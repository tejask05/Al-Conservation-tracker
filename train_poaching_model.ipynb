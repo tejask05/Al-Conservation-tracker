{
 "cells": [
  {
   "cell_type": "code",
   "execution_count": 1,
   "id": "cc6f14e3-082b-4a7d-8620-5f7ad7ad71c2",
   "metadata": {},
   "outputs": [
    {
     "name": "stdout",
     "output_type": "stream",
     "text": [
      "✅ Model trained and saved as poaching_risk_model.pkl\n"
     ]
    }
   ],
   "source": [
    "import pandas as pd\n",
    "from sklearn.tree import DecisionTreeClassifier\n",
    "import pickle\n",
    "\n",
    "# 1. Dummy training data\n",
    "data = {\n",
    "    'ndvi': [-0.1, 0.4, 0.7, 0.2, 0.5, 0.1, 0.9, -0.3],\n",
    "    'density': [5, 20, 40, 15, 35, 10, 5, 30],\n",
    "    'patrols': [1, 4, 6, 2, 5, 3, 7, 1],\n",
    "    'poaching': [10, 2, 0, 5, 1, 7, 0, 9],\n",
    "    'risk': ['High', 'Low', 'Low', 'Medium', 'Low', 'Medium', 'Low', 'High']\n",
    "}\n",
    "\n",
    "df = pd.DataFrame(data)\n",
    "\n",
    "# 2. Encode target labels\n",
    "df['risk_encoded'] = df['risk'].map({'Low': 0, 'Medium': 1, 'High': 2})\n",
    "\n",
    "# 3. Features & labels\n",
    "X = df[['ndvi', 'density', 'patrols', 'poaching']]\n",
    "y = df['risk_encoded']\n",
    "\n",
    "# 4. Train model\n",
    "model = DecisionTreeClassifier()\n",
    "model.fit(X, y)\n",
    "\n",
    "# 5. Save model to .pkl file\n",
    "with open('poaching_risk_model.pkl', 'wb') as f:\n",
    "    pickle.dump(model, f)\n",
    "\n",
    "print(\"✅ Model trained and saved as poaching_risk_model.pkl\")\n"
   ]
  },
  {
   "cell_type": "code",
   "execution_count": null,
   "id": "5e8ee070-f8e3-48d5-bd0e-88d248f540ab",
   "metadata": {},
   "outputs": [],
   "source": []
  }
 ],
 "metadata": {
  "kernelspec": {
   "display_name": "Python 3 (ipykernel)",
   "language": "python",
   "name": "python3"
  },
  "language_info": {
   "codemirror_mode": {
    "name": "ipython",
    "version": 3
   },
   "file_extension": ".py",
   "mimetype": "text/x-python",
   "name": "python",
   "nbconvert_exporter": "python",
   "pygments_lexer": "ipython3",
   "version": "3.12.7"
  }
 },
 "nbformat": 4,
 "nbformat_minor": 5
}
